{
 "cells": [
  {
   "cell_type": "code",
   "execution_count": 1,
   "id": "70dafb57",
   "metadata": {
    "_cell_guid": "b1076dfc-b9ad-4769-8c92-a6c4dae69d19",
    "_uuid": "8f2839f25d086af736a60e9eeb907d3b93b6e0e5",
    "execution": {
     "iopub.execute_input": "2024-05-06T15:41:37.062009Z",
     "iopub.status.busy": "2024-05-06T15:41:37.061601Z",
     "iopub.status.idle": "2024-05-06T15:41:42.768917Z",
     "shell.execute_reply": "2024-05-06T15:41:42.767910Z"
    },
    "papermill": {
     "duration": 5.716659,
     "end_time": "2024-05-06T15:41:42.771614",
     "exception": false,
     "start_time": "2024-05-06T15:41:37.054955",
     "status": "completed"
    },
    "tags": []
   },
   "outputs": [],
   "source": [
    "from google.cloud import bigquery"
   ]
  },
  {
   "cell_type": "code",
   "execution_count": 2,
   "id": "51bb8299",
   "metadata": {
    "execution": {
     "iopub.execute_input": "2024-05-06T15:41:42.783184Z",
     "iopub.status.busy": "2024-05-06T15:41:42.781844Z",
     "iopub.status.idle": "2024-05-06T15:41:42.789803Z",
     "shell.execute_reply": "2024-05-06T15:41:42.788303Z"
    },
    "papermill": {
     "duration": 0.016029,
     "end_time": "2024-05-06T15:41:42.792528",
     "exception": false,
     "start_time": "2024-05-06T15:41:42.776499",
     "status": "completed"
    },
    "tags": []
   },
   "outputs": [
    {
     "name": "stdout",
     "output_type": "stream",
     "text": [
      "Using Kaggle's public dataset BigQuery integration.\n"
     ]
    }
   ],
   "source": [
    "## Create a client Object!!\n",
    "client = bigquery.Client()"
   ]
  },
  {
   "cell_type": "code",
   "execution_count": 3,
   "id": "eb0b575f",
   "metadata": {
    "execution": {
     "iopub.execute_input": "2024-05-06T15:41:42.802689Z",
     "iopub.status.busy": "2024-05-06T15:41:42.802326Z",
     "iopub.status.idle": "2024-05-06T15:41:43.484068Z",
     "shell.execute_reply": "2024-05-06T15:41:43.482615Z"
    },
    "papermill": {
     "duration": 0.690735,
     "end_time": "2024-05-06T15:41:43.487423",
     "exception": false,
     "start_time": "2024-05-06T15:41:42.796688",
     "status": "completed"
    },
    "tags": []
   },
   "outputs": [],
   "source": [
    "## Now using A Large Dataset!!!\n",
    "## Constructing a reference to the hacker_news dataset\n",
    "dataset_ref = client.dataset(\"hacker_news\", project=\"bigquery-public-data\")\n",
    "\n",
    "## API Request- fetch the dataset\n",
    "dataset = client.get_dataset(dataset_ref)\n"
   ]
  },
  {
   "cell_type": "code",
   "execution_count": 4,
   "id": "7a6b713a",
   "metadata": {
    "execution": {
     "iopub.execute_input": "2024-05-06T15:41:43.497918Z",
     "iopub.status.busy": "2024-05-06T15:41:43.497125Z",
     "iopub.status.idle": "2024-05-06T15:41:44.102684Z",
     "shell.execute_reply": "2024-05-06T15:41:44.101507Z"
    },
    "papermill": {
     "duration": 0.613821,
     "end_time": "2024-05-06T15:41:44.105583",
     "exception": false,
     "start_time": "2024-05-06T15:41:43.491762",
     "status": "completed"
    },
    "tags": []
   },
   "outputs": [
    {
     "name": "stdout",
     "output_type": "stream",
     "text": [
      "1\n",
      "full\n"
     ]
    }
   ],
   "source": [
    "tables = list(client.list_tables(dataset))\n",
    "print(len(tables))\n",
    "for table in tables:\n",
    "    print(table.table_id)"
   ]
  },
  {
   "cell_type": "code",
   "execution_count": 5,
   "id": "01aed191",
   "metadata": {
    "execution": {
     "iopub.execute_input": "2024-05-06T15:41:44.116260Z",
     "iopub.status.busy": "2024-05-06T15:41:44.115443Z",
     "iopub.status.idle": "2024-05-06T15:41:44.443772Z",
     "shell.execute_reply": "2024-05-06T15:41:44.442823Z"
    },
    "papermill": {
     "duration": 0.3365,
     "end_time": "2024-05-06T15:41:44.446340",
     "exception": false,
     "start_time": "2024-05-06T15:41:44.109840",
     "status": "completed"
    },
    "tags": []
   },
   "outputs": [],
   "source": [
    "## Construct a reference to \"Full\" table\n",
    "\n",
    "table_ref = dataset_ref.table(\"full\")\n",
    "## API Request - fetch the table\n",
    "table = client.get_table(table_ref)"
   ]
  },
  {
   "cell_type": "code",
   "execution_count": 6,
   "id": "648401c4",
   "metadata": {
    "execution": {
     "iopub.execute_input": "2024-05-06T15:41:44.456894Z",
     "iopub.status.busy": "2024-05-06T15:41:44.456087Z",
     "iopub.status.idle": "2024-05-06T15:41:44.463869Z",
     "shell.execute_reply": "2024-05-06T15:41:44.462747Z"
    },
    "papermill": {
     "duration": 0.015781,
     "end_time": "2024-05-06T15:41:44.466375",
     "exception": false,
     "start_time": "2024-05-06T15:41:44.450594",
     "status": "completed"
    },
    "tags": []
   },
   "outputs": [
    {
     "data": {
      "text/plain": [
       "[SchemaField('title', 'STRING', 'NULLABLE', 'Story title', (), None),\n",
       " SchemaField('url', 'STRING', 'NULLABLE', 'Story url', (), None),\n",
       " SchemaField('text', 'STRING', 'NULLABLE', 'Story or comment text', (), None),\n",
       " SchemaField('dead', 'BOOLEAN', 'NULLABLE', 'Is dead?', (), None),\n",
       " SchemaField('by', 'STRING', 'NULLABLE', \"The username of the item's author.\", (), None),\n",
       " SchemaField('score', 'INTEGER', 'NULLABLE', 'Story score', (), None),\n",
       " SchemaField('time', 'INTEGER', 'NULLABLE', 'Unix time', (), None),\n",
       " SchemaField('timestamp', 'TIMESTAMP', 'NULLABLE', 'Timestamp for the unix time', (), None),\n",
       " SchemaField('type', 'STRING', 'NULLABLE', 'type of details (comment comment_ranking poll story job pollopt)', (), None),\n",
       " SchemaField('id', 'INTEGER', 'NULLABLE', \"The item's unique id.\", (), None),\n",
       " SchemaField('parent', 'INTEGER', 'NULLABLE', 'Parent comment ID', (), None),\n",
       " SchemaField('descendants', 'INTEGER', 'NULLABLE', 'Number of story or poll descendants', (), None),\n",
       " SchemaField('ranking', 'INTEGER', 'NULLABLE', 'Comment ranking', (), None),\n",
       " SchemaField('deleted', 'BOOLEAN', 'NULLABLE', 'Is deleted?', (), None)]"
      ]
     },
     "execution_count": 6,
     "metadata": {},
     "output_type": "execute_result"
    }
   ],
   "source": [
    "table.schema"
   ]
  },
  {
   "cell_type": "code",
   "execution_count": 7,
   "id": "89999405",
   "metadata": {
    "execution": {
     "iopub.execute_input": "2024-05-06T15:41:44.477654Z",
     "iopub.status.busy": "2024-05-06T15:41:44.476587Z",
     "iopub.status.idle": "2024-05-06T15:41:45.065432Z",
     "shell.execute_reply": "2024-05-06T15:41:45.064633Z"
    },
    "papermill": {
     "duration": 0.596662,
     "end_time": "2024-05-06T15:41:45.067492",
     "exception": false,
     "start_time": "2024-05-06T15:41:44.470830",
     "status": "completed"
    },
    "tags": []
   },
   "outputs": [
    {
     "data": {
      "text/html": [
       "<div>\n",
       "<style scoped>\n",
       "    .dataframe tbody tr th:only-of-type {\n",
       "        vertical-align: middle;\n",
       "    }\n",
       "\n",
       "    .dataframe tbody tr th {\n",
       "        vertical-align: top;\n",
       "    }\n",
       "\n",
       "    .dataframe thead th {\n",
       "        text-align: right;\n",
       "    }\n",
       "</style>\n",
       "<table border=\"1\" class=\"dataframe\">\n",
       "  <thead>\n",
       "    <tr style=\"text-align: right;\">\n",
       "      <th></th>\n",
       "      <th>title</th>\n",
       "      <th>url</th>\n",
       "      <th>text</th>\n",
       "      <th>dead</th>\n",
       "      <th>by</th>\n",
       "      <th>score</th>\n",
       "      <th>time</th>\n",
       "      <th>timestamp</th>\n",
       "      <th>type</th>\n",
       "      <th>id</th>\n",
       "      <th>parent</th>\n",
       "      <th>descendants</th>\n",
       "      <th>ranking</th>\n",
       "      <th>deleted</th>\n",
       "    </tr>\n",
       "  </thead>\n",
       "  <tbody>\n",
       "    <tr>\n",
       "      <th>0</th>\n",
       "      <td>None</td>\n",
       "      <td>None</td>\n",
       "      <td>If the crocodile looked him up on Google, we b...</td>\n",
       "      <td>None</td>\n",
       "      <td>raxxorrax</td>\n",
       "      <td>NaN</td>\n",
       "      <td>1633421535</td>\n",
       "      <td>2021-10-05 08:12:15+00:00</td>\n",
       "      <td>comment</td>\n",
       "      <td>28756662</td>\n",
       "      <td>28750122</td>\n",
       "      <td>NaN</td>\n",
       "      <td>NaN</td>\n",
       "      <td>None</td>\n",
       "    </tr>\n",
       "    <tr>\n",
       "      <th>1</th>\n",
       "      <td>None</td>\n",
       "      <td>None</td>\n",
       "      <td>What exactly are you looking for? I think Pyto...</td>\n",
       "      <td>None</td>\n",
       "      <td>abiro</td>\n",
       "      <td>NaN</td>\n",
       "      <td>1569141387</td>\n",
       "      <td>2019-09-22 08:36:27+00:00</td>\n",
       "      <td>comment</td>\n",
       "      <td>21040311</td>\n",
       "      <td>21040141</td>\n",
       "      <td>NaN</td>\n",
       "      <td>NaN</td>\n",
       "      <td>None</td>\n",
       "    </tr>\n",
       "    <tr>\n",
       "      <th>2</th>\n",
       "      <td>None</td>\n",
       "      <td>None</td>\n",
       "      <td>Ironically, this very project might help out w...</td>\n",
       "      <td>None</td>\n",
       "      <td>mjevans</td>\n",
       "      <td>NaN</td>\n",
       "      <td>1505769703</td>\n",
       "      <td>2017-09-18 21:21:43+00:00</td>\n",
       "      <td>comment</td>\n",
       "      <td>15279716</td>\n",
       "      <td>15276626</td>\n",
       "      <td>NaN</td>\n",
       "      <td>NaN</td>\n",
       "      <td>None</td>\n",
       "    </tr>\n",
       "    <tr>\n",
       "      <th>3</th>\n",
       "      <td>None</td>\n",
       "      <td>None</td>\n",
       "      <td>As you start to gain some experience it can be...</td>\n",
       "      <td>None</td>\n",
       "      <td>every_other</td>\n",
       "      <td>NaN</td>\n",
       "      <td>1538575027</td>\n",
       "      <td>2018-10-03 13:57:07+00:00</td>\n",
       "      <td>comment</td>\n",
       "      <td>18130207</td>\n",
       "      <td>18128477</td>\n",
       "      <td>NaN</td>\n",
       "      <td>NaN</td>\n",
       "      <td>None</td>\n",
       "    </tr>\n",
       "    <tr>\n",
       "      <th>4</th>\n",
       "      <td>None</td>\n",
       "      <td>None</td>\n",
       "      <td>That’s what I was referring to, yes. I heard o...</td>\n",
       "      <td>None</td>\n",
       "      <td>manmal</td>\n",
       "      <td>NaN</td>\n",
       "      <td>1615664155</td>\n",
       "      <td>2021-03-13 19:35:55+00:00</td>\n",
       "      <td>comment</td>\n",
       "      <td>26449260</td>\n",
       "      <td>26449237</td>\n",
       "      <td>NaN</td>\n",
       "      <td>NaN</td>\n",
       "      <td>None</td>\n",
       "    </tr>\n",
       "  </tbody>\n",
       "</table>\n",
       "</div>"
      ],
      "text/plain": [
       "  title   url                                               text  dead  \\\n",
       "0  None  None  If the crocodile looked him up on Google, we b...  None   \n",
       "1  None  None  What exactly are you looking for? I think Pyto...  None   \n",
       "2  None  None  Ironically, this very project might help out w...  None   \n",
       "3  None  None  As you start to gain some experience it can be...  None   \n",
       "4  None  None  That’s what I was referring to, yes. I heard o...  None   \n",
       "\n",
       "            by  score        time                 timestamp     type  \\\n",
       "0    raxxorrax    NaN  1633421535 2021-10-05 08:12:15+00:00  comment   \n",
       "1        abiro    NaN  1569141387 2019-09-22 08:36:27+00:00  comment   \n",
       "2      mjevans    NaN  1505769703 2017-09-18 21:21:43+00:00  comment   \n",
       "3  every_other    NaN  1538575027 2018-10-03 13:57:07+00:00  comment   \n",
       "4       manmal    NaN  1615664155 2021-03-13 19:35:55+00:00  comment   \n",
       "\n",
       "         id    parent  descendants  ranking deleted  \n",
       "0  28756662  28750122          NaN      NaN    None  \n",
       "1  21040311  21040141          NaN      NaN    None  \n",
       "2  15279716  15276626          NaN      NaN    None  \n",
       "3  18130207  18128477          NaN      NaN    None  \n",
       "4  26449260  26449237          NaN      NaN    None  "
      ]
     },
     "execution_count": 7,
     "metadata": {},
     "output_type": "execute_result"
    }
   ],
   "source": [
    "## Lets display the data in more readable format!!!\n",
    "client.list_rows(table, max_results=5).to_dataframe()"
   ]
  },
  {
   "cell_type": "code",
   "execution_count": 8,
   "id": "2b617582",
   "metadata": {
    "execution": {
     "iopub.execute_input": "2024-05-06T15:41:45.078630Z",
     "iopub.status.busy": "2024-05-06T15:41:45.078247Z",
     "iopub.status.idle": "2024-05-06T15:41:45.458560Z",
     "shell.execute_reply": "2024-05-06T15:41:45.457272Z"
    },
    "papermill": {
     "duration": 0.389046,
     "end_time": "2024-05-06T15:41:45.461307",
     "exception": false,
     "start_time": "2024-05-06T15:41:45.072261",
     "status": "completed"
    },
    "tags": []
   },
   "outputs": [
    {
     "data": {
      "text/html": [
       "<div>\n",
       "<style scoped>\n",
       "    .dataframe tbody tr th:only-of-type {\n",
       "        vertical-align: middle;\n",
       "    }\n",
       "\n",
       "    .dataframe tbody tr th {\n",
       "        vertical-align: top;\n",
       "    }\n",
       "\n",
       "    .dataframe thead th {\n",
       "        text-align: right;\n",
       "    }\n",
       "</style>\n",
       "<table border=\"1\" class=\"dataframe\">\n",
       "  <thead>\n",
       "    <tr style=\"text-align: right;\">\n",
       "      <th></th>\n",
       "      <th>dead</th>\n",
       "      <th>by</th>\n",
       "      <th>score</th>\n",
       "    </tr>\n",
       "  </thead>\n",
       "  <tbody>\n",
       "    <tr>\n",
       "      <th>0</th>\n",
       "      <td>None</td>\n",
       "      <td>raxxorrax</td>\n",
       "      <td>NaN</td>\n",
       "    </tr>\n",
       "    <tr>\n",
       "      <th>1</th>\n",
       "      <td>None</td>\n",
       "      <td>abiro</td>\n",
       "      <td>NaN</td>\n",
       "    </tr>\n",
       "    <tr>\n",
       "      <th>2</th>\n",
       "      <td>None</td>\n",
       "      <td>mjevans</td>\n",
       "      <td>NaN</td>\n",
       "    </tr>\n",
       "    <tr>\n",
       "      <th>3</th>\n",
       "      <td>None</td>\n",
       "      <td>every_other</td>\n",
       "      <td>NaN</td>\n",
       "    </tr>\n",
       "    <tr>\n",
       "      <th>4</th>\n",
       "      <td>None</td>\n",
       "      <td>manmal</td>\n",
       "      <td>NaN</td>\n",
       "    </tr>\n",
       "  </tbody>\n",
       "</table>\n",
       "</div>"
      ],
      "text/plain": [
       "   dead           by  score\n",
       "0  None    raxxorrax    NaN\n",
       "1  None        abiro    NaN\n",
       "2  None      mjevans    NaN\n",
       "3  None  every_other    NaN\n",
       "4  None       manmal    NaN"
      ]
     },
     "execution_count": 8,
     "metadata": {},
     "output_type": "execute_result"
    }
   ],
   "source": [
    "client.list_rows(table, selected_fields=table.schema[3:6], max_results = 5).to_dataframe()"
   ]
  },
  {
   "cell_type": "code",
   "execution_count": null,
   "id": "8d7ef290",
   "metadata": {
    "papermill": {
     "duration": 0.004578,
     "end_time": "2024-05-06T15:41:45.470817",
     "exception": false,
     "start_time": "2024-05-06T15:41:45.466239",
     "status": "completed"
    },
    "tags": []
   },
   "outputs": [],
   "source": []
  }
 ],
 "metadata": {
  "kaggle": {
   "accelerator": "none",
   "dataSources": [],
   "dockerImageVersionId": 30698,
   "isGpuEnabled": false,
   "isInternetEnabled": true,
   "language": "python",
   "sourceType": "notebook"
  },
  "kernelspec": {
   "display_name": "Python 3",
   "language": "python",
   "name": "python3"
  },
  "language_info": {
   "codemirror_mode": {
    "name": "ipython",
    "version": 3
   },
   "file_extension": ".py",
   "mimetype": "text/x-python",
   "name": "python",
   "nbconvert_exporter": "python",
   "pygments_lexer": "ipython3",
   "version": "3.10.13"
  },
  "papermill": {
   "default_parameters": {},
   "duration": 12.289437,
   "end_time": "2024-05-06T15:41:46.197519",
   "environment_variables": {},
   "exception": null,
   "input_path": "__notebook__.ipynb",
   "output_path": "__notebook__.ipynb",
   "parameters": {},
   "start_time": "2024-05-06T15:41:33.908082",
   "version": "2.5.0"
  }
 },
 "nbformat": 4,
 "nbformat_minor": 5
}
