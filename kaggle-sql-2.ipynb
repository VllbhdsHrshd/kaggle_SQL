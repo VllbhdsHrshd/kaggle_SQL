{
 "cells": [
  {
   "cell_type": "code",
   "execution_count": 1,
   "id": "f6a707ea",
   "metadata": {
    "_cell_guid": "b1076dfc-b9ad-4769-8c92-a6c4dae69d19",
    "_uuid": "8f2839f25d086af736a60e9eeb907d3b93b6e0e5",
    "execution": {
     "iopub.execute_input": "2024-05-06T17:50:33.964753Z",
     "iopub.status.busy": "2024-05-06T17:50:33.963799Z",
     "iopub.status.idle": "2024-05-06T17:50:40.806831Z",
     "shell.execute_reply": "2024-05-06T17:50:40.805841Z"
    },
    "papermill": {
     "duration": 6.853601,
     "end_time": "2024-05-06T17:50:40.809626",
     "exception": false,
     "start_time": "2024-05-06T17:50:33.956025",
     "status": "completed"
    },
    "tags": []
   },
   "outputs": [
    {
     "name": "stdout",
     "output_type": "stream",
     "text": [
      "Using Kaggle's public dataset BigQuery integration.\n"
     ]
    }
   ],
   "source": [
    "from google.cloud import bigquery \n",
    "client = bigquery.Client() ## Creating a bigquery client object!!\n"
   ]
  },
  {
   "cell_type": "code",
   "execution_count": 2,
   "id": "10d7a320",
   "metadata": {
    "execution": {
     "iopub.execute_input": "2024-05-06T17:50:40.823458Z",
     "iopub.status.busy": "2024-05-06T17:50:40.822473Z",
     "iopub.status.idle": "2024-05-06T17:50:41.511035Z",
     "shell.execute_reply": "2024-05-06T17:50:41.509385Z"
    },
    "papermill": {
     "duration": 0.698623,
     "end_time": "2024-05-06T17:50:41.514121",
     "exception": false,
     "start_time": "2024-05-06T17:50:40.815498",
     "status": "completed"
    },
    "tags": []
   },
   "outputs": [
    {
     "name": "stdout",
     "output_type": "stream",
     "text": [
      "global_air_quality\n"
     ]
    }
   ],
   "source": [
    "# Reference to openaq dataset\n",
    "dataset_ref = client.dataset(\"openaq\", project=\"bigquery-public-data\")\n",
    "\n",
    "# API Request\n",
    "dataset = client.get_dataset(dataset_ref)\n",
    "\n",
    "## List all the tables in the dataset!!\n",
    "tables = list(client.list_tables(dataset))\n",
    "\n",
    "## display them\n",
    "for table in tables:\n",
    "    print(table.table_id)\n"
   ]
  },
  {
   "cell_type": "code",
   "execution_count": 3,
   "id": "cbfd4cea",
   "metadata": {
    "execution": {
     "iopub.execute_input": "2024-05-06T17:50:41.527930Z",
     "iopub.status.busy": "2024-05-06T17:50:41.527059Z",
     "iopub.status.idle": "2024-05-06T17:50:42.557958Z",
     "shell.execute_reply": "2024-05-06T17:50:42.556715Z"
    },
    "papermill": {
     "duration": 1.041616,
     "end_time": "2024-05-06T17:50:42.561252",
     "exception": false,
     "start_time": "2024-05-06T17:50:41.519636",
     "status": "completed"
    },
    "tags": []
   },
   "outputs": [
    {
     "data": {
      "text/html": [
       "<div>\n",
       "<style scoped>\n",
       "    .dataframe tbody tr th:only-of-type {\n",
       "        vertical-align: middle;\n",
       "    }\n",
       "\n",
       "    .dataframe tbody tr th {\n",
       "        vertical-align: top;\n",
       "    }\n",
       "\n",
       "    .dataframe thead th {\n",
       "        text-align: right;\n",
       "    }\n",
       "</style>\n",
       "<table border=\"1\" class=\"dataframe\">\n",
       "  <thead>\n",
       "    <tr style=\"text-align: right;\">\n",
       "      <th></th>\n",
       "      <th>location</th>\n",
       "      <th>city</th>\n",
       "      <th>country</th>\n",
       "      <th>pollutant</th>\n",
       "      <th>value</th>\n",
       "      <th>timestamp</th>\n",
       "      <th>unit</th>\n",
       "      <th>source_name</th>\n",
       "      <th>latitude</th>\n",
       "      <th>longitude</th>\n",
       "      <th>averaged_over_in_hours</th>\n",
       "      <th>location_geom</th>\n",
       "    </tr>\n",
       "  </thead>\n",
       "  <tbody>\n",
       "    <tr>\n",
       "      <th>0</th>\n",
       "      <td>Borówiec, ul. Drapałka</td>\n",
       "      <td>Borówiec</td>\n",
       "      <td>PL</td>\n",
       "      <td>bc</td>\n",
       "      <td>0.85217</td>\n",
       "      <td>2022-04-28 07:00:00+00:00</td>\n",
       "      <td>µg/m³</td>\n",
       "      <td>GIOS</td>\n",
       "      <td>1.0</td>\n",
       "      <td>52.276794</td>\n",
       "      <td>17.074114</td>\n",
       "      <td>POINT(52.276794 1)</td>\n",
       "    </tr>\n",
       "    <tr>\n",
       "      <th>1</th>\n",
       "      <td>Kraków, ul. Bulwarowa</td>\n",
       "      <td>Kraków</td>\n",
       "      <td>PL</td>\n",
       "      <td>bc</td>\n",
       "      <td>0.91284</td>\n",
       "      <td>2022-04-27 23:00:00+00:00</td>\n",
       "      <td>µg/m³</td>\n",
       "      <td>GIOS</td>\n",
       "      <td>1.0</td>\n",
       "      <td>50.069308</td>\n",
       "      <td>20.053492</td>\n",
       "      <td>POINT(50.069308 1)</td>\n",
       "    </tr>\n",
       "    <tr>\n",
       "      <th>2</th>\n",
       "      <td>Płock, ul. Reja</td>\n",
       "      <td>Płock</td>\n",
       "      <td>PL</td>\n",
       "      <td>bc</td>\n",
       "      <td>1.41000</td>\n",
       "      <td>2022-03-30 04:00:00+00:00</td>\n",
       "      <td>µg/m³</td>\n",
       "      <td>GIOS</td>\n",
       "      <td>1.0</td>\n",
       "      <td>52.550938</td>\n",
       "      <td>19.709791</td>\n",
       "      <td>POINT(52.550938 1)</td>\n",
       "    </tr>\n",
       "    <tr>\n",
       "      <th>3</th>\n",
       "      <td>Elbląg, ul. Bażyńskiego</td>\n",
       "      <td>Elbląg</td>\n",
       "      <td>PL</td>\n",
       "      <td>bc</td>\n",
       "      <td>0.33607</td>\n",
       "      <td>2022-05-03 13:00:00+00:00</td>\n",
       "      <td>µg/m³</td>\n",
       "      <td>GIOS</td>\n",
       "      <td>1.0</td>\n",
       "      <td>54.167847</td>\n",
       "      <td>19.410942</td>\n",
       "      <td>POINT(54.167847 1)</td>\n",
       "    </tr>\n",
       "    <tr>\n",
       "      <th>4</th>\n",
       "      <td>Piastów, ul. Pułaskiego</td>\n",
       "      <td>Piastów</td>\n",
       "      <td>PL</td>\n",
       "      <td>bc</td>\n",
       "      <td>0.51000</td>\n",
       "      <td>2022-05-11 05:00:00+00:00</td>\n",
       "      <td>µg/m³</td>\n",
       "      <td>GIOS</td>\n",
       "      <td>1.0</td>\n",
       "      <td>52.191728</td>\n",
       "      <td>20.837489</td>\n",
       "      <td>POINT(52.191728 1)</td>\n",
       "    </tr>\n",
       "  </tbody>\n",
       "</table>\n",
       "</div>"
      ],
      "text/plain": [
       "                  location      city country pollutant    value  \\\n",
       "0   Borówiec, ul. Drapałka  Borówiec      PL        bc  0.85217   \n",
       "1    Kraków, ul. Bulwarowa    Kraków      PL        bc  0.91284   \n",
       "2          Płock, ul. Reja     Płock      PL        bc  1.41000   \n",
       "3  Elbląg, ul. Bażyńskiego    Elbląg      PL        bc  0.33607   \n",
       "4  Piastów, ul. Pułaskiego   Piastów      PL        bc  0.51000   \n",
       "\n",
       "                  timestamp   unit source_name  latitude  longitude  \\\n",
       "0 2022-04-28 07:00:00+00:00  µg/m³        GIOS       1.0  52.276794   \n",
       "1 2022-04-27 23:00:00+00:00  µg/m³        GIOS       1.0  50.069308   \n",
       "2 2022-03-30 04:00:00+00:00  µg/m³        GIOS       1.0  52.550938   \n",
       "3 2022-05-03 13:00:00+00:00  µg/m³        GIOS       1.0  54.167847   \n",
       "4 2022-05-11 05:00:00+00:00  µg/m³        GIOS       1.0  52.191728   \n",
       "\n",
       "   averaged_over_in_hours       location_geom  \n",
       "0               17.074114  POINT(52.276794 1)  \n",
       "1               20.053492  POINT(50.069308 1)  \n",
       "2               19.709791  POINT(52.550938 1)  \n",
       "3               19.410942  POINT(54.167847 1)  \n",
       "4               20.837489  POINT(52.191728 1)  "
      ]
     },
     "execution_count": 3,
     "metadata": {},
     "output_type": "execute_result"
    }
   ],
   "source": [
    "## Creating a reference to table \n",
    "table_ref = dataset_ref.table(\"global_air_quality\")\n",
    "## Api REQUEST\n",
    "table = client.get_table(table_ref)\n",
    "\n",
    "## Lets preview them\n",
    "client.list_rows(table, max_results=5).to_dataframe()"
   ]
  },
  {
   "cell_type": "code",
   "execution_count": 4,
   "id": "7528933d",
   "metadata": {
    "execution": {
     "iopub.execute_input": "2024-05-06T17:50:42.576341Z",
     "iopub.status.busy": "2024-05-06T17:50:42.575863Z",
     "iopub.status.idle": "2024-05-06T17:50:42.582481Z",
     "shell.execute_reply": "2024-05-06T17:50:42.580915Z"
    },
    "papermill": {
     "duration": 0.017549,
     "end_time": "2024-05-06T17:50:42.585450",
     "exception": false,
     "start_time": "2024-05-06T17:50:42.567901",
     "status": "completed"
    },
    "tags": []
   },
   "outputs": [],
   "source": [
    "## Query to select all the items from the city columns where the \n",
    "## \"country\" columns is \"US\"\n",
    "\n",
    "query = \"\"\"\n",
    "SELECT city\n",
    "FROM `bigquery-public-data.openaq.global_air_quality`\n",
    "WHERE country = 'US'\n",
    "\"\"\""
   ]
  },
  {
   "cell_type": "code",
   "execution_count": 5,
   "id": "9d7ba88e",
   "metadata": {
    "execution": {
     "iopub.execute_input": "2024-05-06T17:50:42.600336Z",
     "iopub.status.busy": "2024-05-06T17:50:42.599869Z",
     "iopub.status.idle": "2024-05-06T17:50:43.129499Z",
     "shell.execute_reply": "2024-05-06T17:50:43.127724Z"
    },
    "papermill": {
     "duration": 0.540635,
     "end_time": "2024-05-06T17:50:43.132571",
     "exception": false,
     "start_time": "2024-05-06T17:50:42.591936",
     "status": "completed"
    },
    "tags": []
   },
   "outputs": [],
   "source": [
    "query_job = client.query(query)\n"
   ]
  },
  {
   "cell_type": "code",
   "execution_count": 6,
   "id": "8026ecbb",
   "metadata": {
    "execution": {
     "iopub.execute_input": "2024-05-06T17:50:43.147024Z",
     "iopub.status.busy": "2024-05-06T17:50:43.146554Z",
     "iopub.status.idle": "2024-05-06T17:51:13.841554Z",
     "shell.execute_reply": "2024-05-06T17:51:13.840228Z"
    },
    "papermill": {
     "duration": 30.706585,
     "end_time": "2024-05-06T17:51:13.844980",
     "exception": false,
     "start_time": "2024-05-06T17:50:43.138395",
     "status": "completed"
    },
    "tags": []
   },
   "outputs": [],
   "source": [
    "us_cities = query_job.to_dataframe()\n"
   ]
  },
  {
   "cell_type": "code",
   "execution_count": 7,
   "id": "76911a63",
   "metadata": {
    "execution": {
     "iopub.execute_input": "2024-05-06T17:51:13.859285Z",
     "iopub.status.busy": "2024-05-06T17:51:13.858801Z",
     "iopub.status.idle": "2024-05-06T17:51:14.078822Z",
     "shell.execute_reply": "2024-05-06T17:51:14.077410Z"
    },
    "papermill": {
     "duration": 0.230764,
     "end_time": "2024-05-06T17:51:14.081981",
     "exception": false,
     "start_time": "2024-05-06T17:51:13.851217",
     "status": "completed"
    },
    "tags": []
   },
   "outputs": [
    {
     "data": {
      "text/plain": [
       "city\n",
       "Phoenix-Mesa-Scottsdale                     39414\n",
       "Los Angeles-Long Beach-Santa Ana            27479\n",
       "Riverside-San Bernardino-Ontario            26887\n",
       "New York-Northern New Jersey-Long Island    25417\n",
       "San Francisco-Oakland-Fremont               22710\n",
       "Name: count, dtype: int64"
      ]
     },
     "execution_count": 7,
     "metadata": {},
     "output_type": "execute_result"
    }
   ],
   "source": [
    "us_cities.city.value_counts().head()"
   ]
  },
  {
   "cell_type": "code",
   "execution_count": 8,
   "id": "79b476eb",
   "metadata": {
    "execution": {
     "iopub.execute_input": "2024-05-06T17:51:14.096347Z",
     "iopub.status.busy": "2024-05-06T17:51:14.095845Z",
     "iopub.status.idle": "2024-05-06T17:51:14.103344Z",
     "shell.execute_reply": "2024-05-06T17:51:14.101384Z"
    },
    "papermill": {
     "duration": 0.01865,
     "end_time": "2024-05-06T17:51:14.106718",
     "exception": false,
     "start_time": "2024-05-06T17:51:14.088068",
     "status": "completed"
    },
    "tags": []
   },
   "outputs": [],
   "source": [
    "query = \"\"\"\n",
    "        SELECT city, country\n",
    "        FROM `bigquery-public-data.openaq.global_air_quality`\n",
    "        WHERE country = 'US'\n",
    "        \n",
    "\"\"\""
   ]
  },
  {
   "cell_type": "code",
   "execution_count": 9,
   "id": "e21f8be6",
   "metadata": {
    "execution": {
     "iopub.execute_input": "2024-05-06T17:51:14.121786Z",
     "iopub.status.busy": "2024-05-06T17:51:14.121317Z",
     "iopub.status.idle": "2024-05-06T17:51:14.127125Z",
     "shell.execute_reply": "2024-05-06T17:51:14.125675Z"
    },
    "papermill": {
     "duration": 0.017054,
     "end_time": "2024-05-06T17:51:14.129765",
     "exception": false,
     "start_time": "2024-05-06T17:51:14.112711",
     "status": "completed"
    },
    "tags": []
   },
   "outputs": [],
   "source": [
    "query = \"\"\"\n",
    "    \n",
    "    SELECT score, title\n",
    "    FROM `bigquery-public-data.hacker_news.full`\n",
    "    WHERE type=\"job\"\n",
    "\n",
    "\"\"\""
   ]
  },
  {
   "cell_type": "code",
   "execution_count": 10,
   "id": "c10c922c",
   "metadata": {
    "execution": {
     "iopub.execute_input": "2024-05-06T17:51:14.143884Z",
     "iopub.status.busy": "2024-05-06T17:51:14.142975Z",
     "iopub.status.idle": "2024-05-06T17:51:14.563975Z",
     "shell.execute_reply": "2024-05-06T17:51:14.561651Z"
    },
    "papermill": {
     "duration": 0.431932,
     "end_time": "2024-05-06T17:51:14.567416",
     "exception": false,
     "start_time": "2024-05-06T17:51:14.135484",
     "status": "completed"
    },
    "tags": []
   },
   "outputs": [
    {
     "name": "stdout",
     "output_type": "stream",
     "text": [
      "This query will process 490833096 bytes\n"
     ]
    }
   ],
   "source": [
    "#create a QueryJobconfig object to estimate size of query without running it\n",
    "\n",
    "dry_run_config = bigquery.QueryJobConfig(dry_run=True)\n",
    "\n",
    "## API REQUEST\n",
    "\n",
    "dry_run_query_job = client.query(query, job_config=dry_run_config)\n",
    "\n",
    "print(\"This query will process {} bytes\".format(dry_run_query_job.total_bytes_processed))\n"
   ]
  },
  {
   "cell_type": "code",
   "execution_count": 11,
   "id": "711cfd64",
   "metadata": {
    "execution": {
     "iopub.execute_input": "2024-05-06T17:51:14.582581Z",
     "iopub.status.busy": "2024-05-06T17:51:14.582082Z",
     "iopub.status.idle": "2024-05-06T17:51:16.970425Z",
     "shell.execute_reply": "2024-05-06T17:51:16.968952Z"
    },
    "papermill": {
     "duration": 2.399722,
     "end_time": "2024-05-06T17:51:16.973462",
     "exception": false,
     "start_time": "2024-05-06T17:51:14.573740",
     "status": "completed"
    },
    "tags": []
   },
   "outputs": [
    {
     "data": {
      "text/plain": [
       "1.700647369595952"
      ]
     },
     "execution_count": 11,
     "metadata": {},
     "output_type": "execute_result"
    }
   ],
   "source": [
    "# Only run the query if it's less than 1 GB\n",
    "ONE_GB = 1000*1000*1000\n",
    "safe_config = bigquery.QueryJobConfig(maximum_bytes_billed=ONE_GB)\n",
    "\n",
    "# Set up the query (will only run if it's less than 1 GB)\n",
    "safe_query_job = client.query(query, job_config=safe_config)\n",
    "\n",
    "# API request - try to run the query, and return a pandas DataFrame\n",
    "job_post_scores = safe_query_job.to_dataframe()\n",
    "\n",
    "# Print average score for job posts\n",
    "job_post_scores.score.mean()"
   ]
  },
  {
   "cell_type": "code",
   "execution_count": null,
   "id": "b8146603",
   "metadata": {
    "papermill": {
     "duration": 0.005972,
     "end_time": "2024-05-06T17:51:16.985740",
     "exception": false,
     "start_time": "2024-05-06T17:51:16.979768",
     "status": "completed"
    },
    "tags": []
   },
   "outputs": [],
   "source": []
  }
 ],
 "metadata": {
  "kaggle": {
   "accelerator": "none",
   "dataSources": [],
   "dockerImageVersionId": 30698,
   "isGpuEnabled": false,
   "isInternetEnabled": true,
   "language": "python",
   "sourceType": "notebook"
  },
  "kernelspec": {
   "display_name": "Python 3",
   "language": "python",
   "name": "python3"
  },
  "language_info": {
   "codemirror_mode": {
    "name": "ipython",
    "version": 3
   },
   "file_extension": ".py",
   "mimetype": "text/x-python",
   "name": "python",
   "nbconvert_exporter": "python",
   "pygments_lexer": "ipython3",
   "version": "3.10.13"
  },
  "papermill": {
   "default_parameters": {},
   "duration": 47.238097,
   "end_time": "2024-05-06T17:51:17.919612",
   "environment_variables": {},
   "exception": null,
   "input_path": "__notebook__.ipynb",
   "output_path": "__notebook__.ipynb",
   "parameters": {},
   "start_time": "2024-05-06T17:50:30.681515",
   "version": "2.5.0"
  }
 },
 "nbformat": 4,
 "nbformat_minor": 5
}
