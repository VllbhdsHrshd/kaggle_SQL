{
 "cells": [
  {
   "cell_type": "markdown",
   "id": "ee2d2acc",
   "metadata": {
    "papermill": {
     "duration": 0.008354,
     "end_time": "2024-05-06T16:05:57.665823",
     "exception": false,
     "start_time": "2024-05-06T16:05:57.657469",
     "status": "completed"
    },
    "tags": []
   },
   "source": [
    "**This notebook is an exercise in the [SQL](https://www.kaggle.com/learn/intro-to-sql) course.  You can reference the tutorial at [this link](https://www.kaggle.com/dansbecker/getting-started-with-sql-and-bigquery).**\n",
    "\n",
    "---\n"
   ]
  },
  {
   "cell_type": "markdown",
   "id": "f6bce7cc",
   "metadata": {
    "papermill": {
     "duration": 0.007105,
     "end_time": "2024-05-06T16:05:57.680803",
     "exception": false,
     "start_time": "2024-05-06T16:05:57.673698",
     "status": "completed"
    },
    "tags": []
   },
   "source": [
    "# Introduction\n",
    "\n",
    "The first test of your new data exploration skills uses data describing crime in the city of Chicago.\n",
    "\n",
    "Before you get started, run the following cell. It sets up the automated feedback system to review your answers."
   ]
  },
  {
   "cell_type": "code",
   "execution_count": 1,
   "id": "a9edba5a",
   "metadata": {
    "execution": {
     "iopub.execute_input": "2024-05-06T16:05:57.697763Z",
     "iopub.status.busy": "2024-05-06T16:05:57.697383Z",
     "iopub.status.idle": "2024-05-06T16:06:05.008382Z",
     "shell.execute_reply": "2024-05-06T16:06:05.007140Z"
    },
    "papermill": {
     "duration": 7.322684,
     "end_time": "2024-05-06T16:06:05.011015",
     "exception": false,
     "start_time": "2024-05-06T16:05:57.688331",
     "status": "completed"
    },
    "tags": []
   },
   "outputs": [
    {
     "name": "stdout",
     "output_type": "stream",
     "text": [
      "Using Kaggle's public dataset BigQuery integration.\n",
      "Setup Complete\n"
     ]
    }
   ],
   "source": [
    "# Set up feedack system\n",
    "from learntools.core import binder\n",
    "binder.bind(globals())\n",
    "from learntools.sql.ex1 import *\n",
    "print(\"Setup Complete\")"
   ]
  },
  {
   "cell_type": "markdown",
   "id": "391cec06",
   "metadata": {
    "papermill": {
     "duration": 0.007413,
     "end_time": "2024-05-06T16:06:05.026412",
     "exception": false,
     "start_time": "2024-05-06T16:06:05.018999",
     "status": "completed"
    },
    "tags": []
   },
   "source": [
    "Use the next code cell to fetch the dataset."
   ]
  },
  {
   "cell_type": "code",
   "execution_count": 2,
   "id": "5cdc774a",
   "metadata": {
    "execution": {
     "iopub.execute_input": "2024-05-06T16:06:05.044418Z",
     "iopub.status.busy": "2024-05-06T16:06:05.043557Z",
     "iopub.status.idle": "2024-05-06T16:06:05.486372Z",
     "shell.execute_reply": "2024-05-06T16:06:05.484827Z"
    },
    "papermill": {
     "duration": 0.455586,
     "end_time": "2024-05-06T16:06:05.489731",
     "exception": false,
     "start_time": "2024-05-06T16:06:05.034145",
     "status": "completed"
    },
    "tags": []
   },
   "outputs": [
    {
     "name": "stdout",
     "output_type": "stream",
     "text": [
      "Using Kaggle's public dataset BigQuery integration.\n"
     ]
    }
   ],
   "source": [
    "from google.cloud import bigquery\n",
    "\n",
    "# Create a \"Client\" object\n",
    "client = bigquery.Client()\n",
    "\n",
    "# Construct a reference to the \"chicago_crime\" dataset\n",
    "dataset_ref = client.dataset(\"chicago_crime\", project=\"bigquery-public-data\")\n",
    "\n",
    "# API request - fetch the dataset\n",
    "dataset = client.get_dataset(dataset_ref)"
   ]
  },
  {
   "cell_type": "markdown",
   "id": "75613d71",
   "metadata": {
    "papermill": {
     "duration": 0.007639,
     "end_time": "2024-05-06T16:06:05.505804",
     "exception": false,
     "start_time": "2024-05-06T16:06:05.498165",
     "status": "completed"
    },
    "tags": []
   },
   "source": [
    "# Exercises\n",
    "\n",
    "### 1) Count tables in the dataset\n",
    "\n",
    "How many tables are in the Chicago Crime dataset?"
   ]
  },
  {
   "cell_type": "code",
   "execution_count": 3,
   "id": "02c10bb7",
   "metadata": {
    "execution": {
     "iopub.execute_input": "2024-05-06T16:06:05.524279Z",
     "iopub.status.busy": "2024-05-06T16:06:05.523766Z",
     "iopub.status.idle": "2024-05-06T16:06:05.833682Z",
     "shell.execute_reply": "2024-05-06T16:06:05.832696Z"
    },
    "papermill": {
     "duration": 0.322225,
     "end_time": "2024-05-06T16:06:05.836137",
     "exception": false,
     "start_time": "2024-05-06T16:06:05.513912",
     "status": "completed"
    },
    "tags": []
   },
   "outputs": [
    {
     "data": {
      "text/plain": [
       "1"
      ]
     },
     "execution_count": 3,
     "metadata": {},
     "output_type": "execute_result"
    }
   ],
   "source": [
    "# Write the code you need here to figure out the answer\n",
    "tables = list(client.list_tables(dataset))\n",
    "len(tables)"
   ]
  },
  {
   "cell_type": "code",
   "execution_count": 4,
   "id": "c857192b",
   "metadata": {
    "execution": {
     "iopub.execute_input": "2024-05-06T16:06:05.855027Z",
     "iopub.status.busy": "2024-05-06T16:06:05.854298Z",
     "iopub.status.idle": "2024-05-06T16:06:05.863548Z",
     "shell.execute_reply": "2024-05-06T16:06:05.862113Z"
    },
    "papermill": {
     "duration": 0.021554,
     "end_time": "2024-05-06T16:06:05.866017",
     "exception": false,
     "start_time": "2024-05-06T16:06:05.844463",
     "status": "completed"
    },
    "tags": []
   },
   "outputs": [
    {
     "data": {
      "application/javascript": [
       "parent.postMessage({\"jupyterEvent\": \"custom.exercise_interaction\", \"data\": {\"outcomeType\": 1, \"valueTowardsCompletion\": 0.3333333333333333, \"interactionType\": 1, \"questionType\": 1, \"questionId\": \"1_CountTables\", \"learnToolsVersion\": \"0.3.4\", \"failureMessage\": \"\", \"exceptionClass\": \"\", \"trace\": \"\"}}, \"*\")"
      ],
      "text/plain": [
       "<IPython.core.display.Javascript object>"
      ]
     },
     "metadata": {},
     "output_type": "display_data"
    },
    {
     "data": {
      "text/markdown": [
       "<span style=\"color:#33cc33\">Correct</span>"
      ],
      "text/plain": [
       "Correct"
      ]
     },
     "metadata": {},
     "output_type": "display_data"
    }
   ],
   "source": [
    "num_tables = len(tables)  # Store the answer as num_tables and then run this cell\n",
    "\n",
    "# Check your answer\n",
    "q_1.check()"
   ]
  },
  {
   "cell_type": "markdown",
   "id": "7b790a4f",
   "metadata": {
    "papermill": {
     "duration": 0.008014,
     "end_time": "2024-05-06T16:06:05.882307",
     "exception": false,
     "start_time": "2024-05-06T16:06:05.874293",
     "status": "completed"
    },
    "tags": []
   },
   "source": [
    "For a hint or the solution, uncomment the appropriate line below."
   ]
  },
  {
   "cell_type": "code",
   "execution_count": 5,
   "id": "8b905797",
   "metadata": {
    "execution": {
     "iopub.execute_input": "2024-05-06T16:06:05.902460Z",
     "iopub.status.busy": "2024-05-06T16:06:05.902034Z",
     "iopub.status.idle": "2024-05-06T16:06:05.915452Z",
     "shell.execute_reply": "2024-05-06T16:06:05.914322Z"
    },
    "papermill": {
     "duration": 0.025927,
     "end_time": "2024-05-06T16:06:05.918100",
     "exception": false,
     "start_time": "2024-05-06T16:06:05.892173",
     "status": "completed"
    },
    "tags": []
   },
   "outputs": [
    {
     "data": {
      "application/javascript": [
       "parent.postMessage({\"jupyterEvent\": \"custom.exercise_interaction\", \"data\": {\"interactionType\": 2, \"questionType\": 1, \"questionId\": \"1_CountTables\", \"learnToolsVersion\": \"0.3.4\", \"valueTowardsCompletion\": 0.0, \"failureMessage\": \"\", \"exceptionClass\": \"\", \"trace\": \"\", \"outcomeType\": 4}}, \"*\")"
      ],
      "text/plain": [
       "<IPython.core.display.Javascript object>"
      ]
     },
     "metadata": {},
     "output_type": "display_data"
    },
    {
     "data": {
      "text/markdown": [
       "<span style=\"color:#3366cc\">Hint:</span> Use the `list_tables()` method to get a list of the tables in the dataset."
      ],
      "text/plain": [
       "Hint: Use the `list_tables()` method to get a list of the tables in the dataset."
      ]
     },
     "metadata": {},
     "output_type": "display_data"
    },
    {
     "data": {
      "application/javascript": [
       "parent.postMessage({\"jupyterEvent\": \"custom.exercise_interaction\", \"data\": {\"interactionType\": 3, \"questionType\": 1, \"questionId\": \"1_CountTables\", \"learnToolsVersion\": \"0.3.4\", \"valueTowardsCompletion\": 0.0, \"failureMessage\": \"\", \"exceptionClass\": \"\", \"trace\": \"\", \"outcomeType\": 4}}, \"*\")"
      ],
      "text/plain": [
       "<IPython.core.display.Javascript object>"
      ]
     },
     "metadata": {},
     "output_type": "display_data"
    },
    {
     "data": {
      "text/markdown": [
       "<span style=\"color:#33cc99\">Solution:</span> \n",
       "```python\n",
       "\n",
       "# List all the tables in the \"chicago_crime\" dataset\n",
       "tables = list(client.list_tables(dataset))\n",
       "\n",
       "# Print number of tables in the dataset\n",
       "print(len(tables))\n",
       "\n",
       "num_tables = 1\n",
       "\n",
       "```"
      ],
      "text/plain": [
       "Solution: \n",
       "```python\n",
       "\n",
       "# List all the tables in the \"chicago_crime\" dataset\n",
       "tables = list(client.list_tables(dataset))\n",
       "\n",
       "# Print number of tables in the dataset\n",
       "print(len(tables))\n",
       "\n",
       "num_tables = 1\n",
       "\n",
       "```"
      ]
     },
     "metadata": {},
     "output_type": "display_data"
    }
   ],
   "source": [
    "q_1.hint()\n",
    "q_1.solution()"
   ]
  },
  {
   "cell_type": "markdown",
   "id": "ccf9dd0f",
   "metadata": {
    "papermill": {
     "duration": 0.009103,
     "end_time": "2024-05-06T16:06:05.936041",
     "exception": false,
     "start_time": "2024-05-06T16:06:05.926938",
     "status": "completed"
    },
    "tags": []
   },
   "source": [
    "### 2) Explore the table schema\n",
    "\n",
    "How many columns in the `crime` table have `TIMESTAMP` data?"
   ]
  },
  {
   "cell_type": "code",
   "execution_count": 6,
   "id": "a27254b5",
   "metadata": {
    "execution": {
     "iopub.execute_input": "2024-05-06T16:06:05.956370Z",
     "iopub.status.busy": "2024-05-06T16:06:05.955985Z",
     "iopub.status.idle": "2024-05-06T16:06:06.267328Z",
     "shell.execute_reply": "2024-05-06T16:06:06.265930Z"
    },
    "papermill": {
     "duration": 0.325017,
     "end_time": "2024-05-06T16:06:06.269959",
     "exception": false,
     "start_time": "2024-05-06T16:06:05.944942",
     "status": "completed"
    },
    "tags": []
   },
   "outputs": [
    {
     "name": "stdout",
     "output_type": "stream",
     "text": [
      "crime\n"
     ]
    },
    {
     "data": {
      "text/plain": [
       "(google.cloud.bigquery.table.Table,\n",
       " [SchemaField('unique_key', 'INTEGER', 'REQUIRED', None, (), None),\n",
       "  SchemaField('case_number', 'STRING', 'NULLABLE', None, (), None),\n",
       "  SchemaField('date', 'TIMESTAMP', 'NULLABLE', None, (), None),\n",
       "  SchemaField('block', 'STRING', 'NULLABLE', None, (), None),\n",
       "  SchemaField('iucr', 'STRING', 'NULLABLE', None, (), None),\n",
       "  SchemaField('primary_type', 'STRING', 'NULLABLE', None, (), None),\n",
       "  SchemaField('description', 'STRING', 'NULLABLE', None, (), None),\n",
       "  SchemaField('location_description', 'STRING', 'NULLABLE', None, (), None),\n",
       "  SchemaField('arrest', 'BOOLEAN', 'NULLABLE', None, (), None),\n",
       "  SchemaField('domestic', 'BOOLEAN', 'NULLABLE', None, (), None),\n",
       "  SchemaField('beat', 'INTEGER', 'NULLABLE', None, (), None),\n",
       "  SchemaField('district', 'INTEGER', 'NULLABLE', None, (), None),\n",
       "  SchemaField('ward', 'INTEGER', 'NULLABLE', None, (), None),\n",
       "  SchemaField('community_area', 'INTEGER', 'NULLABLE', None, (), None),\n",
       "  SchemaField('fbi_code', 'STRING', 'NULLABLE', None, (), None),\n",
       "  SchemaField('x_coordinate', 'FLOAT', 'NULLABLE', None, (), None),\n",
       "  SchemaField('y_coordinate', 'FLOAT', 'NULLABLE', None, (), None),\n",
       "  SchemaField('year', 'INTEGER', 'NULLABLE', None, (), None),\n",
       "  SchemaField('updated_on', 'TIMESTAMP', 'NULLABLE', None, (), None),\n",
       "  SchemaField('latitude', 'FLOAT', 'NULLABLE', None, (), None),\n",
       "  SchemaField('longitude', 'FLOAT', 'NULLABLE', None, (), None),\n",
       "  SchemaField('location', 'STRING', 'NULLABLE', None, (), None)])"
      ]
     },
     "execution_count": 6,
     "metadata": {},
     "output_type": "execute_result"
    }
   ],
   "source": [
    "# Write the code to figure out the answer\n",
    "for table in tables:\n",
    "    print(table.table_id)\n",
    "table_ref = dataset_ref.table(\"crime\")\n",
    "table = client.get_table(table_ref)\n",
    "type(table),table.schema\n",
    "\n",
    "\n"
   ]
  },
  {
   "cell_type": "code",
   "execution_count": 7,
   "id": "fa6fa0af",
   "metadata": {
    "execution": {
     "iopub.execute_input": "2024-05-06T16:06:06.292303Z",
     "iopub.status.busy": "2024-05-06T16:06:06.290856Z",
     "iopub.status.idle": "2024-05-06T16:06:06.302187Z",
     "shell.execute_reply": "2024-05-06T16:06:06.300927Z"
    },
    "papermill": {
     "duration": 0.025123,
     "end_time": "2024-05-06T16:06:06.304737",
     "exception": false,
     "start_time": "2024-05-06T16:06:06.279614",
     "status": "completed"
    },
    "tags": []
   },
   "outputs": [
    {
     "data": {
      "application/javascript": [
       "parent.postMessage({\"jupyterEvent\": \"custom.exercise_interaction\", \"data\": {\"outcomeType\": 1, \"valueTowardsCompletion\": 0.3333333333333333, \"interactionType\": 1, \"questionType\": 1, \"questionId\": \"2_CountTimestampFields\", \"learnToolsVersion\": \"0.3.4\", \"failureMessage\": \"\", \"exceptionClass\": \"\", \"trace\": \"\"}}, \"*\")"
      ],
      "text/plain": [
       "<IPython.core.display.Javascript object>"
      ]
     },
     "metadata": {},
     "output_type": "display_data"
    },
    {
     "data": {
      "text/markdown": [
       "<span style=\"color:#33cc33\">Correct</span>"
      ],
      "text/plain": [
       "Correct"
      ]
     },
     "metadata": {},
     "output_type": "display_data"
    }
   ],
   "source": [
    "num_timestamp_fields = 2 # Put your answer here\n",
    "\n",
    "# Check your answer\n",
    "q_2.check()"
   ]
  },
  {
   "cell_type": "markdown",
   "id": "81a497ae",
   "metadata": {
    "papermill": {
     "duration": 0.009275,
     "end_time": "2024-05-06T16:06:06.323530",
     "exception": false,
     "start_time": "2024-05-06T16:06:06.314255",
     "status": "completed"
    },
    "tags": []
   },
   "source": [
    "For a hint or the solution, uncomment the appropriate line below."
   ]
  },
  {
   "cell_type": "code",
   "execution_count": 8,
   "id": "2dce9726",
   "metadata": {
    "execution": {
     "iopub.execute_input": "2024-05-06T16:06:06.346095Z",
     "iopub.status.busy": "2024-05-06T16:06:06.345414Z",
     "iopub.status.idle": "2024-05-06T16:06:06.359642Z",
     "shell.execute_reply": "2024-05-06T16:06:06.358269Z"
    },
    "papermill": {
     "duration": 0.028385,
     "end_time": "2024-05-06T16:06:06.362031",
     "exception": false,
     "start_time": "2024-05-06T16:06:06.333646",
     "status": "completed"
    },
    "tags": []
   },
   "outputs": [
    {
     "data": {
      "application/javascript": [
       "parent.postMessage({\"jupyterEvent\": \"custom.exercise_interaction\", \"data\": {\"interactionType\": 2, \"questionType\": 1, \"questionId\": \"2_CountTimestampFields\", \"learnToolsVersion\": \"0.3.4\", \"valueTowardsCompletion\": 0.0, \"failureMessage\": \"\", \"exceptionClass\": \"\", \"trace\": \"\", \"outcomeType\": 4}}, \"*\")"
      ],
      "text/plain": [
       "<IPython.core.display.Javascript object>"
      ]
     },
     "metadata": {},
     "output_type": "display_data"
    },
    {
     "data": {
      "text/markdown": [
       "<span style=\"color:#3366cc\">Hint:</span> Begin by fetching the `crime` table. Then take a look at the table schema, and check the field type of each column.  How many times does `'TIMESTAMP'` appear?"
      ],
      "text/plain": [
       "Hint: Begin by fetching the `crime` table. Then take a look at the table schema, and check the field type of each column.  How many times does `'TIMESTAMP'` appear?"
      ]
     },
     "metadata": {},
     "output_type": "display_data"
    },
    {
     "data": {
      "application/javascript": [
       "parent.postMessage({\"jupyterEvent\": \"custom.exercise_interaction\", \"data\": {\"interactionType\": 3, \"questionType\": 1, \"questionId\": \"2_CountTimestampFields\", \"learnToolsVersion\": \"0.3.4\", \"valueTowardsCompletion\": 0.0, \"failureMessage\": \"\", \"exceptionClass\": \"\", \"trace\": \"\", \"outcomeType\": 4}}, \"*\")"
      ],
      "text/plain": [
       "<IPython.core.display.Javascript object>"
      ]
     },
     "metadata": {},
     "output_type": "display_data"
    },
    {
     "data": {
      "text/markdown": [
       "<span style=\"color:#33cc99\">Solution:</span> \n",
       "```python\n",
       "\n",
       "# Construct a reference to the \"crime\" table\n",
       "table_ref = dataset_ref.table(\"crime\")\n",
       "\n",
       "# API request - fetch the table\n",
       "table = client.get_table(table_ref)\n",
       "\n",
       "# Print information on all the columns in the \"crime\" table in the \"chicago_crime\" dataset\n",
       "print(table.schema)\n",
       "\n",
       "num_timestamp_fields = 2\n",
       "\n",
       "```"
      ],
      "text/plain": [
       "Solution: \n",
       "```python\n",
       "\n",
       "# Construct a reference to the \"crime\" table\n",
       "table_ref = dataset_ref.table(\"crime\")\n",
       "\n",
       "# API request - fetch the table\n",
       "table = client.get_table(table_ref)\n",
       "\n",
       "# Print information on all the columns in the \"crime\" table in the \"chicago_crime\" dataset\n",
       "print(table.schema)\n",
       "\n",
       "num_timestamp_fields = 2\n",
       "\n",
       "```"
      ]
     },
     "metadata": {},
     "output_type": "display_data"
    }
   ],
   "source": [
    "q_2.hint()\n",
    "q_2.solution()"
   ]
  },
  {
   "cell_type": "markdown",
   "id": "6e7d0dad",
   "metadata": {
    "papermill": {
     "duration": 0.009771,
     "end_time": "2024-05-06T16:06:06.381896",
     "exception": false,
     "start_time": "2024-05-06T16:06:06.372125",
     "status": "completed"
    },
    "tags": []
   },
   "source": [
    "### 3) Create a crime map\n",
    "\n",
    "If you wanted to create a map with a dot at the location of each crime, what are the names of the two fields you likely need to pull out of the `crime` table to plot the crimes on a map?"
   ]
  },
  {
   "cell_type": "code",
   "execution_count": 9,
   "id": "a6b631f5",
   "metadata": {
    "execution": {
     "iopub.execute_input": "2024-05-06T16:06:06.405101Z",
     "iopub.status.busy": "2024-05-06T16:06:06.403920Z",
     "iopub.status.idle": "2024-05-06T16:06:06.412881Z",
     "shell.execute_reply": "2024-05-06T16:06:06.411684Z"
    },
    "papermill": {
     "duration": 0.023403,
     "end_time": "2024-05-06T16:06:06.415357",
     "exception": false,
     "start_time": "2024-05-06T16:06:06.391954",
     "status": "completed"
    },
    "tags": []
   },
   "outputs": [
    {
     "data": {
      "text/plain": [
       "[SchemaField('unique_key', 'INTEGER', 'REQUIRED', None, (), None),\n",
       " SchemaField('case_number', 'STRING', 'NULLABLE', None, (), None),\n",
       " SchemaField('date', 'TIMESTAMP', 'NULLABLE', None, (), None),\n",
       " SchemaField('block', 'STRING', 'NULLABLE', None, (), None),\n",
       " SchemaField('iucr', 'STRING', 'NULLABLE', None, (), None),\n",
       " SchemaField('primary_type', 'STRING', 'NULLABLE', None, (), None),\n",
       " SchemaField('description', 'STRING', 'NULLABLE', None, (), None),\n",
       " SchemaField('location_description', 'STRING', 'NULLABLE', None, (), None),\n",
       " SchemaField('arrest', 'BOOLEAN', 'NULLABLE', None, (), None),\n",
       " SchemaField('domestic', 'BOOLEAN', 'NULLABLE', None, (), None),\n",
       " SchemaField('beat', 'INTEGER', 'NULLABLE', None, (), None),\n",
       " SchemaField('district', 'INTEGER', 'NULLABLE', None, (), None),\n",
       " SchemaField('ward', 'INTEGER', 'NULLABLE', None, (), None),\n",
       " SchemaField('community_area', 'INTEGER', 'NULLABLE', None, (), None),\n",
       " SchemaField('fbi_code', 'STRING', 'NULLABLE', None, (), None),\n",
       " SchemaField('x_coordinate', 'FLOAT', 'NULLABLE', None, (), None),\n",
       " SchemaField('y_coordinate', 'FLOAT', 'NULLABLE', None, (), None),\n",
       " SchemaField('year', 'INTEGER', 'NULLABLE', None, (), None),\n",
       " SchemaField('updated_on', 'TIMESTAMP', 'NULLABLE', None, (), None),\n",
       " SchemaField('latitude', 'FLOAT', 'NULLABLE', None, (), None),\n",
       " SchemaField('longitude', 'FLOAT', 'NULLABLE', None, (), None),\n",
       " SchemaField('location', 'STRING', 'NULLABLE', None, (), None)]"
      ]
     },
     "execution_count": 9,
     "metadata": {},
     "output_type": "execute_result"
    }
   ],
   "source": [
    "# Write the code here to explore the data so you can find the answer\n",
    "table.schema"
   ]
  },
  {
   "cell_type": "code",
   "execution_count": 10,
   "id": "1be4933b",
   "metadata": {
    "execution": {
     "iopub.execute_input": "2024-05-06T16:06:06.440116Z",
     "iopub.status.busy": "2024-05-06T16:06:06.439688Z",
     "iopub.status.idle": "2024-05-06T16:06:06.449345Z",
     "shell.execute_reply": "2024-05-06T16:06:06.448251Z"
    },
    "papermill": {
     "duration": 0.026538,
     "end_time": "2024-05-06T16:06:06.452315",
     "exception": false,
     "start_time": "2024-05-06T16:06:06.425777",
     "status": "completed"
    },
    "tags": []
   },
   "outputs": [
    {
     "data": {
      "application/javascript": [
       "parent.postMessage({\"jupyterEvent\": \"custom.exercise_interaction\", \"data\": {\"outcomeType\": 1, \"valueTowardsCompletion\": 0.3333333333333333, \"interactionType\": 1, \"questionType\": 2, \"questionId\": \"3_IdentifyFieldsForPlotting\", \"learnToolsVersion\": \"0.3.4\", \"failureMessage\": \"\", \"exceptionClass\": \"\", \"trace\": \"\"}}, \"*\")"
      ],
      "text/plain": [
       "<IPython.core.display.Javascript object>"
      ]
     },
     "metadata": {},
     "output_type": "display_data"
    },
    {
     "data": {
      "text/markdown": [
       "<span style=\"color:#33cc33\">Correct</span>"
      ],
      "text/plain": [
       "Correct"
      ]
     },
     "metadata": {},
     "output_type": "display_data"
    }
   ],
   "source": [
    "fields_for_plotting = ['latitude', 'longitude'] # Put your answers here\n",
    "\n",
    "# Check your answer\n",
    "q_3.check()"
   ]
  },
  {
   "cell_type": "markdown",
   "id": "f5fbfcfc",
   "metadata": {
    "papermill": {
     "duration": 0.011133,
     "end_time": "2024-05-06T16:06:06.474769",
     "exception": false,
     "start_time": "2024-05-06T16:06:06.463636",
     "status": "completed"
    },
    "tags": []
   },
   "source": [
    "For a hint or the solution, uncomment the appropriate line below."
   ]
  },
  {
   "cell_type": "code",
   "execution_count": 11,
   "id": "ba922f65",
   "metadata": {
    "execution": {
     "iopub.execute_input": "2024-05-06T16:06:06.499870Z",
     "iopub.status.busy": "2024-05-06T16:06:06.499046Z",
     "iopub.status.idle": "2024-05-06T16:06:06.513300Z",
     "shell.execute_reply": "2024-05-06T16:06:06.512186Z"
    },
    "papermill": {
     "duration": 0.02964,
     "end_time": "2024-05-06T16:06:06.515535",
     "exception": false,
     "start_time": "2024-05-06T16:06:06.485895",
     "status": "completed"
    },
    "tags": []
   },
   "outputs": [
    {
     "data": {
      "application/javascript": [
       "parent.postMessage({\"jupyterEvent\": \"custom.exercise_interaction\", \"data\": {\"interactionType\": 2, \"questionType\": 2, \"questionId\": \"3_IdentifyFieldsForPlotting\", \"learnToolsVersion\": \"0.3.4\", \"valueTowardsCompletion\": 0.0, \"failureMessage\": \"\", \"exceptionClass\": \"\", \"trace\": \"\", \"outcomeType\": 4}}, \"*\")"
      ],
      "text/plain": [
       "<IPython.core.display.Javascript object>"
      ]
     },
     "metadata": {},
     "output_type": "display_data"
    },
    {
     "data": {
      "text/markdown": [
       "<span style=\"color:#3366cc\">Hint:</span> Look at the table schema.  There are a couple options, but two of the fields are things commonly used to plot on maps. Both are `'FLOAT'` types. Use quotes around the field names in your answer."
      ],
      "text/plain": [
       "Hint: Look at the table schema.  There are a couple options, but two of the fields are things commonly used to plot on maps. Both are `'FLOAT'` types. Use quotes around the field names in your answer."
      ]
     },
     "metadata": {},
     "output_type": "display_data"
    },
    {
     "data": {
      "application/javascript": [
       "parent.postMessage({\"jupyterEvent\": \"custom.exercise_interaction\", \"data\": {\"interactionType\": 3, \"questionType\": 2, \"questionId\": \"3_IdentifyFieldsForPlotting\", \"learnToolsVersion\": \"0.3.4\", \"valueTowardsCompletion\": 0.0, \"failureMessage\": \"\", \"exceptionClass\": \"\", \"trace\": \"\", \"outcomeType\": 4}}, \"*\")"
      ],
      "text/plain": [
       "<IPython.core.display.Javascript object>"
      ]
     },
     "metadata": {},
     "output_type": "display_data"
    },
    {
     "data": {
      "text/markdown": [
       "<span style=\"color:#33cc99\">Solution:</span> \n",
       "```python\n",
       "fields_for_plotting = ['latitude', 'longitude']\n",
       "```"
      ],
      "text/plain": [
       "Solution: \n",
       "```python\n",
       "fields_for_plotting = ['latitude', 'longitude']\n",
       "```"
      ]
     },
     "metadata": {},
     "output_type": "display_data"
    }
   ],
   "source": [
    "q_3.hint()\n",
    "q_3.solution()"
   ]
  },
  {
   "cell_type": "markdown",
   "id": "221db245",
   "metadata": {
    "papermill": {
     "duration": 0.01152,
     "end_time": "2024-05-06T16:06:06.539328",
     "exception": false,
     "start_time": "2024-05-06T16:06:06.527808",
     "status": "completed"
    },
    "tags": []
   },
   "source": [
    "Thinking about the question above, there are a few columns that appear to have geographic data. Look at a few values (with the `list_rows()` command) to see if you can determine their relationship.  Two columns will still be hard to interpret. But it should be obvious how the `location` column relates to `latitude` and `longitude`."
   ]
  },
  {
   "cell_type": "code",
   "execution_count": 12,
   "id": "c18b06cd",
   "metadata": {
    "execution": {
     "iopub.execute_input": "2024-05-06T16:06:06.565781Z",
     "iopub.status.busy": "2024-05-06T16:06:06.565089Z",
     "iopub.status.idle": "2024-05-06T16:06:07.518131Z",
     "shell.execute_reply": "2024-05-06T16:06:07.516875Z"
    },
    "papermill": {
     "duration": 0.970037,
     "end_time": "2024-05-06T16:06:07.521034",
     "exception": false,
     "start_time": "2024-05-06T16:06:06.550997",
     "status": "completed"
    },
    "tags": []
   },
   "outputs": [
    {
     "data": {
      "text/html": [
       "<div>\n",
       "<style scoped>\n",
       "    .dataframe tbody tr th:only-of-type {\n",
       "        vertical-align: middle;\n",
       "    }\n",
       "\n",
       "    .dataframe tbody tr th {\n",
       "        vertical-align: top;\n",
       "    }\n",
       "\n",
       "    .dataframe thead th {\n",
       "        text-align: right;\n",
       "    }\n",
       "</style>\n",
       "<table border=\"1\" class=\"dataframe\">\n",
       "  <thead>\n",
       "    <tr style=\"text-align: right;\">\n",
       "      <th></th>\n",
       "      <th>unique_key</th>\n",
       "      <th>case_number</th>\n",
       "      <th>date</th>\n",
       "      <th>block</th>\n",
       "      <th>iucr</th>\n",
       "      <th>primary_type</th>\n",
       "      <th>description</th>\n",
       "      <th>location_description</th>\n",
       "      <th>arrest</th>\n",
       "      <th>domestic</th>\n",
       "      <th>...</th>\n",
       "      <th>ward</th>\n",
       "      <th>community_area</th>\n",
       "      <th>fbi_code</th>\n",
       "      <th>x_coordinate</th>\n",
       "      <th>y_coordinate</th>\n",
       "      <th>year</th>\n",
       "      <th>updated_on</th>\n",
       "      <th>latitude</th>\n",
       "      <th>longitude</th>\n",
       "      <th>location</th>\n",
       "    </tr>\n",
       "  </thead>\n",
       "  <tbody>\n",
       "    <tr>\n",
       "      <th>0</th>\n",
       "      <td>11511120</td>\n",
       "      <td>JB521056</td>\n",
       "      <td>2018-11-18 07:55:00+00:00</td>\n",
       "      <td>0000X E LAKE ST</td>\n",
       "      <td>0281</td>\n",
       "      <td>CRIM SEXUAL ASSAULT</td>\n",
       "      <td>NON-AGGRAVATED</td>\n",
       "      <td>STREET</td>\n",
       "      <td>False</td>\n",
       "      <td>False</td>\n",
       "      <td>...</td>\n",
       "      <td>42</td>\n",
       "      <td>32</td>\n",
       "      <td>02</td>\n",
       "      <td>1176916.0</td>\n",
       "      <td>1901744.0</td>\n",
       "      <td>2018</td>\n",
       "      <td>2018-11-25 04:09:36+00:00</td>\n",
       "      <td>41.885729</td>\n",
       "      <td>-87.625781</td>\n",
       "      <td>(41.885729338, -87.625780935)</td>\n",
       "    </tr>\n",
       "    <tr>\n",
       "      <th>1</th>\n",
       "      <td>11708135</td>\n",
       "      <td>JC288603</td>\n",
       "      <td>2019-06-02 02:30:00+00:00</td>\n",
       "      <td>002XX N WABASH AVE</td>\n",
       "      <td>0281</td>\n",
       "      <td>CRIMINAL SEXUAL ASSAULT</td>\n",
       "      <td>NON-AGGRAVATED</td>\n",
       "      <td>HOTEL / MOTEL</td>\n",
       "      <td>False</td>\n",
       "      <td>False</td>\n",
       "      <td>...</td>\n",
       "      <td>42</td>\n",
       "      <td>32</td>\n",
       "      <td>02</td>\n",
       "      <td>1176777.0</td>\n",
       "      <td>1901808.0</td>\n",
       "      <td>2019</td>\n",
       "      <td>2020-08-03 03:40:13+00:00</td>\n",
       "      <td>41.885908</td>\n",
       "      <td>-87.626289</td>\n",
       "      <td>(41.885908101, -87.626289429)</td>\n",
       "    </tr>\n",
       "    <tr>\n",
       "      <th>2</th>\n",
       "      <td>2649140</td>\n",
       "      <td>HJ260945</td>\n",
       "      <td>2003-03-26 06:18:15+00:00</td>\n",
       "      <td>001XX S CLINTON ST</td>\n",
       "      <td>0312</td>\n",
       "      <td>ROBBERY</td>\n",
       "      <td>ARMED:KNIFE/CUTTING INSTRUMENT</td>\n",
       "      <td>STREET</td>\n",
       "      <td>False</td>\n",
       "      <td>False</td>\n",
       "      <td>...</td>\n",
       "      <td>2</td>\n",
       "      <td>28</td>\n",
       "      <td>03</td>\n",
       "      <td>1172751.0</td>\n",
       "      <td>1899656.0</td>\n",
       "      <td>2003</td>\n",
       "      <td>2018-02-28 03:56:25+00:00</td>\n",
       "      <td>41.880093</td>\n",
       "      <td>-87.641137</td>\n",
       "      <td>(41.88009295, -87.641137362)</td>\n",
       "    </tr>\n",
       "    <tr>\n",
       "      <th>3</th>\n",
       "      <td>11197043</td>\n",
       "      <td>JB106918</td>\n",
       "      <td>2018-01-06 06:10:00+00:00</td>\n",
       "      <td>0000X E WASHINGTON ST</td>\n",
       "      <td>0313</td>\n",
       "      <td>ROBBERY</td>\n",
       "      <td>ARMED: OTHER DANGEROUS WEAPON</td>\n",
       "      <td>RESTAURANT</td>\n",
       "      <td>False</td>\n",
       "      <td>False</td>\n",
       "      <td>...</td>\n",
       "      <td>42</td>\n",
       "      <td>32</td>\n",
       "      <td>03</td>\n",
       "      <td>1176972.0</td>\n",
       "      <td>1900831.0</td>\n",
       "      <td>2018</td>\n",
       "      <td>2018-05-04 03:51:04+00:00</td>\n",
       "      <td>41.883223</td>\n",
       "      <td>-87.625603</td>\n",
       "      <td>(41.88322275, -87.625602945)</td>\n",
       "    </tr>\n",
       "    <tr>\n",
       "      <th>4</th>\n",
       "      <td>13286934</td>\n",
       "      <td>JG515570</td>\n",
       "      <td>2023-11-24 06:57:00+00:00</td>\n",
       "      <td>0000X E LAKE ST</td>\n",
       "      <td>031A</td>\n",
       "      <td>ROBBERY</td>\n",
       "      <td>ARMED - HANDGUN</td>\n",
       "      <td>CONVENIENCE STORE</td>\n",
       "      <td>False</td>\n",
       "      <td>False</td>\n",
       "      <td>...</td>\n",
       "      <td>42</td>\n",
       "      <td>32</td>\n",
       "      <td>03</td>\n",
       "      <td>1176905.0</td>\n",
       "      <td>1901744.0</td>\n",
       "      <td>2023</td>\n",
       "      <td>2023-12-02 03:41:05+00:00</td>\n",
       "      <td>41.885730</td>\n",
       "      <td>-87.625821</td>\n",
       "      <td>(41.885729587, -87.625821329)</td>\n",
       "    </tr>\n",
       "    <tr>\n",
       "      <th>5</th>\n",
       "      <td>4493672</td>\n",
       "      <td>HL795241</td>\n",
       "      <td>2005-12-17 05:15:00+00:00</td>\n",
       "      <td>005XX W JACKSON BLVD</td>\n",
       "      <td>031A</td>\n",
       "      <td>ROBBERY</td>\n",
       "      <td>ARMED: HANDGUN</td>\n",
       "      <td>STREET</td>\n",
       "      <td>False</td>\n",
       "      <td>False</td>\n",
       "      <td>...</td>\n",
       "      <td>2</td>\n",
       "      <td>28</td>\n",
       "      <td>03</td>\n",
       "      <td>1173084.0</td>\n",
       "      <td>1898910.0</td>\n",
       "      <td>2005</td>\n",
       "      <td>2018-02-28 03:56:25+00:00</td>\n",
       "      <td>41.878039</td>\n",
       "      <td>-87.639937</td>\n",
       "      <td>(41.878038501, -87.639936767)</td>\n",
       "    </tr>\n",
       "    <tr>\n",
       "      <th>6</th>\n",
       "      <td>12879489</td>\n",
       "      <td>JF458714</td>\n",
       "      <td>2022-11-02 12:20:00+00:00</td>\n",
       "      <td>0000X E WACKER DR</td>\n",
       "      <td>031A</td>\n",
       "      <td>ROBBERY</td>\n",
       "      <td>ARMED - HANDGUN</td>\n",
       "      <td>CONVENIENCE STORE</td>\n",
       "      <td>False</td>\n",
       "      <td>False</td>\n",
       "      <td>...</td>\n",
       "      <td>42</td>\n",
       "      <td>32</td>\n",
       "      <td>03</td>\n",
       "      <td>1176621.0</td>\n",
       "      <td>1902155.0</td>\n",
       "      <td>2022</td>\n",
       "      <td>2023-01-03 03:40:27+00:00</td>\n",
       "      <td>41.886864</td>\n",
       "      <td>-87.626852</td>\n",
       "      <td>(41.886863814, -87.626851797)</td>\n",
       "    </tr>\n",
       "    <tr>\n",
       "      <th>7</th>\n",
       "      <td>5540810</td>\n",
       "      <td>HN350150</td>\n",
       "      <td>2007-05-18 01:00:00+00:00</td>\n",
       "      <td>006XX W WASHINGTON BLVD</td>\n",
       "      <td>031A</td>\n",
       "      <td>ROBBERY</td>\n",
       "      <td>ARMED: HANDGUN</td>\n",
       "      <td>PARKING LOT/GARAGE(NON.RESID.)</td>\n",
       "      <td>False</td>\n",
       "      <td>False</td>\n",
       "      <td>...</td>\n",
       "      <td>42</td>\n",
       "      <td>28</td>\n",
       "      <td>03</td>\n",
       "      <td>1172041.0</td>\n",
       "      <td>1900771.0</td>\n",
       "      <td>2007</td>\n",
       "      <td>2018-02-10 03:50:01+00:00</td>\n",
       "      <td>41.883168</td>\n",
       "      <td>-87.643711</td>\n",
       "      <td>(41.883168267, -87.643711477)</td>\n",
       "    </tr>\n",
       "    <tr>\n",
       "      <th>8</th>\n",
       "      <td>11338872</td>\n",
       "      <td>JB295081</td>\n",
       "      <td>2018-06-03 04:00:00+00:00</td>\n",
       "      <td>003XX N MICHIGAN AVE</td>\n",
       "      <td>0320</td>\n",
       "      <td>ROBBERY</td>\n",
       "      <td>STRONGARM - NO WEAPON</td>\n",
       "      <td>RESTAURANT</td>\n",
       "      <td>False</td>\n",
       "      <td>False</td>\n",
       "      <td>...</td>\n",
       "      <td>42</td>\n",
       "      <td>32</td>\n",
       "      <td>03</td>\n",
       "      <td>1177246.0</td>\n",
       "      <td>1902333.0</td>\n",
       "      <td>2018</td>\n",
       "      <td>2018-06-10 03:50:33+00:00</td>\n",
       "      <td>41.887338</td>\n",
       "      <td>-87.624551</td>\n",
       "      <td>(41.887338112, -87.624551258)</td>\n",
       "    </tr>\n",
       "    <tr>\n",
       "      <th>9</th>\n",
       "      <td>11306003</td>\n",
       "      <td>JB246317</td>\n",
       "      <td>2018-05-02 03:17:00+00:00</td>\n",
       "      <td>0000X E WACKER DR</td>\n",
       "      <td>0320</td>\n",
       "      <td>ROBBERY</td>\n",
       "      <td>STRONGARM - NO WEAPON</td>\n",
       "      <td>CONVENIENCE STORE</td>\n",
       "      <td>False</td>\n",
       "      <td>False</td>\n",
       "      <td>...</td>\n",
       "      <td>42</td>\n",
       "      <td>32</td>\n",
       "      <td>03</td>\n",
       "      <td>1176621.0</td>\n",
       "      <td>1902155.0</td>\n",
       "      <td>2018</td>\n",
       "      <td>2018-05-09 03:51:40+00:00</td>\n",
       "      <td>41.886864</td>\n",
       "      <td>-87.626852</td>\n",
       "      <td>(41.886863814, -87.626851797)</td>\n",
       "    </tr>\n",
       "  </tbody>\n",
       "</table>\n",
       "<p>10 rows × 22 columns</p>\n",
       "</div>"
      ],
      "text/plain": [
       "   unique_key case_number                      date                    block  \\\n",
       "0    11511120    JB521056 2018-11-18 07:55:00+00:00          0000X E LAKE ST   \n",
       "1    11708135    JC288603 2019-06-02 02:30:00+00:00       002XX N WABASH AVE   \n",
       "2     2649140    HJ260945 2003-03-26 06:18:15+00:00       001XX S CLINTON ST   \n",
       "3    11197043    JB106918 2018-01-06 06:10:00+00:00    0000X E WASHINGTON ST   \n",
       "4    13286934    JG515570 2023-11-24 06:57:00+00:00          0000X E LAKE ST   \n",
       "5     4493672    HL795241 2005-12-17 05:15:00+00:00     005XX W JACKSON BLVD   \n",
       "6    12879489    JF458714 2022-11-02 12:20:00+00:00        0000X E WACKER DR   \n",
       "7     5540810    HN350150 2007-05-18 01:00:00+00:00  006XX W WASHINGTON BLVD   \n",
       "8    11338872    JB295081 2018-06-03 04:00:00+00:00     003XX N MICHIGAN AVE   \n",
       "9    11306003    JB246317 2018-05-02 03:17:00+00:00        0000X E WACKER DR   \n",
       "\n",
       "   iucr             primary_type                     description  \\\n",
       "0  0281      CRIM SEXUAL ASSAULT                  NON-AGGRAVATED   \n",
       "1  0281  CRIMINAL SEXUAL ASSAULT                  NON-AGGRAVATED   \n",
       "2  0312                  ROBBERY  ARMED:KNIFE/CUTTING INSTRUMENT   \n",
       "3  0313                  ROBBERY   ARMED: OTHER DANGEROUS WEAPON   \n",
       "4  031A                  ROBBERY                 ARMED - HANDGUN   \n",
       "5  031A                  ROBBERY                  ARMED: HANDGUN   \n",
       "6  031A                  ROBBERY                 ARMED - HANDGUN   \n",
       "7  031A                  ROBBERY                  ARMED: HANDGUN   \n",
       "8  0320                  ROBBERY           STRONGARM - NO WEAPON   \n",
       "9  0320                  ROBBERY           STRONGARM - NO WEAPON   \n",
       "\n",
       "             location_description  arrest  domestic  ...  ward  \\\n",
       "0                          STREET   False     False  ...    42   \n",
       "1                   HOTEL / MOTEL   False     False  ...    42   \n",
       "2                          STREET   False     False  ...     2   \n",
       "3                      RESTAURANT   False     False  ...    42   \n",
       "4               CONVENIENCE STORE   False     False  ...    42   \n",
       "5                          STREET   False     False  ...     2   \n",
       "6               CONVENIENCE STORE   False     False  ...    42   \n",
       "7  PARKING LOT/GARAGE(NON.RESID.)   False     False  ...    42   \n",
       "8                      RESTAURANT   False     False  ...    42   \n",
       "9               CONVENIENCE STORE   False     False  ...    42   \n",
       "\n",
       "   community_area  fbi_code  x_coordinate y_coordinate  year  \\\n",
       "0              32        02     1176916.0    1901744.0  2018   \n",
       "1              32        02     1176777.0    1901808.0  2019   \n",
       "2              28        03     1172751.0    1899656.0  2003   \n",
       "3              32        03     1176972.0    1900831.0  2018   \n",
       "4              32        03     1176905.0    1901744.0  2023   \n",
       "5              28        03     1173084.0    1898910.0  2005   \n",
       "6              32        03     1176621.0    1902155.0  2022   \n",
       "7              28        03     1172041.0    1900771.0  2007   \n",
       "8              32        03     1177246.0    1902333.0  2018   \n",
       "9              32        03     1176621.0    1902155.0  2018   \n",
       "\n",
       "                 updated_on   latitude  longitude  \\\n",
       "0 2018-11-25 04:09:36+00:00  41.885729 -87.625781   \n",
       "1 2020-08-03 03:40:13+00:00  41.885908 -87.626289   \n",
       "2 2018-02-28 03:56:25+00:00  41.880093 -87.641137   \n",
       "3 2018-05-04 03:51:04+00:00  41.883223 -87.625603   \n",
       "4 2023-12-02 03:41:05+00:00  41.885730 -87.625821   \n",
       "5 2018-02-28 03:56:25+00:00  41.878039 -87.639937   \n",
       "6 2023-01-03 03:40:27+00:00  41.886864 -87.626852   \n",
       "7 2018-02-10 03:50:01+00:00  41.883168 -87.643711   \n",
       "8 2018-06-10 03:50:33+00:00  41.887338 -87.624551   \n",
       "9 2018-05-09 03:51:40+00:00  41.886864 -87.626852   \n",
       "\n",
       "                        location  \n",
       "0  (41.885729338, -87.625780935)  \n",
       "1  (41.885908101, -87.626289429)  \n",
       "2   (41.88009295, -87.641137362)  \n",
       "3   (41.88322275, -87.625602945)  \n",
       "4  (41.885729587, -87.625821329)  \n",
       "5  (41.878038501, -87.639936767)  \n",
       "6  (41.886863814, -87.626851797)  \n",
       "7  (41.883168267, -87.643711477)  \n",
       "8  (41.887338112, -87.624551258)  \n",
       "9  (41.886863814, -87.626851797)  \n",
       "\n",
       "[10 rows x 22 columns]"
      ]
     },
     "execution_count": 12,
     "metadata": {},
     "output_type": "execute_result"
    }
   ],
   "source": [
    "# Scratch space for your code\n",
    "client.list_rows(table, selected_fields = table.schema[::], max_results = 10).to_dataframe()\n"
   ]
  },
  {
   "cell_type": "markdown",
   "id": "ab6c6d6c",
   "metadata": {
    "papermill": {
     "duration": 0.011831,
     "end_time": "2024-05-06T16:06:07.545368",
     "exception": false,
     "start_time": "2024-05-06T16:06:07.533537",
     "status": "completed"
    },
    "tags": []
   },
   "source": [
    "# Keep going\n",
    "\n",
    "You've looked at the schema, but you haven't yet done anything exciting with the data itself. Things get more interesting when you get to the data, so keep going to **[write your first SQL query](https://www.kaggle.com/dansbecker/select-from-where).**"
   ]
  },
  {
   "cell_type": "markdown",
   "id": "7863d2da",
   "metadata": {
    "papermill": {
     "duration": 0.011979,
     "end_time": "2024-05-06T16:06:07.570063",
     "exception": false,
     "start_time": "2024-05-06T16:06:07.558084",
     "status": "completed"
    },
    "tags": []
   },
   "source": [
    "---\n",
    "\n",
    "\n",
    "\n",
    "\n",
    "*Have questions or comments? Visit the [course discussion forum](https://www.kaggle.com/learn/intro-to-sql/discussion) to chat with other learners.*"
   ]
  }
 ],
 "metadata": {
  "kaggle": {
   "accelerator": "none",
   "dataSources": [
    {
     "datasetId": 22090,
     "sourceId": 28376,
     "sourceType": "datasetVersion"
    },
    {
     "datasetId": 6057,
     "sourceId": 285982,
     "sourceType": "datasetVersion"
    }
   ],
   "isGpuEnabled": false,
   "isInternetEnabled": false,
   "language": "python",
   "sourceType": "notebook"
  },
  "kernelspec": {
   "display_name": "Python 3",
   "language": "python",
   "name": "python3"
  },
  "language_info": {
   "codemirror_mode": {
    "name": "ipython",
    "version": 3
   },
   "file_extension": ".py",
   "mimetype": "text/x-python",
   "name": "python",
   "nbconvert_exporter": "python",
   "pygments_lexer": "ipython3",
   "version": "3.10.13"
  },
  "papermill": {
   "default_parameters": {},
   "duration": 14.373812,
   "end_time": "2024-05-06T16:06:08.707125",
   "environment_variables": {},
   "exception": null,
   "input_path": "__notebook__.ipynb",
   "output_path": "__notebook__.ipynb",
   "parameters": {},
   "start_time": "2024-05-06T16:05:54.333313",
   "version": "2.5.0"
  }
 },
 "nbformat": 4,
 "nbformat_minor": 5
}
